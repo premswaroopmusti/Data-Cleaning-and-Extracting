{
  "nbformat": 4,
  "nbformat_minor": 0,
  "metadata": {
    "colab": {
      "name": "Data Cleaning and Extracting.ipynb",
      "provenance": [],
      "mount_file_id": "1vwcCP0wdV3-ixFj0pLs6IW0EyWUlSYQv",
      "authorship_tag": "ABX9TyOPymyPMwKPoydzcWkqhhaZ",
      "include_colab_link": true
    },
    "kernelspec": {
      "name": "python3",
      "display_name": "Python 3"
    },
    "language_info": {
      "name": "python"
    }
  },
  "cells": [
    {
      "cell_type": "markdown",
      "metadata": {
        "id": "view-in-github",
        "colab_type": "text"
      },
      "source": [
        "<a href=\"https://colab.research.google.com/github/premswaroopmusti/Data-Cleaning-and-Extracting/blob/main/Data_Cleaning_and_Extracting.ipynb\" target=\"_parent\"><img src=\"https://colab.research.google.com/assets/colab-badge.svg\" alt=\"Open In Colab\"/></a>"
      ]
    },
    {
      "cell_type": "code",
      "execution_count": null,
      "metadata": {
        "id": "7LLdHwa9qB63"
      },
      "outputs": [],
      "source": [
        "# importing libraries\n",
        "import pandas as pd\n",
        "import numpy as np"
      ]
    },
    {
      "cell_type": "code",
      "source": [
        "# loading the dataset 'Example_Technical_skills'\n",
        "tech = pd.read_csv('/content/drive/MyDrive/intern assignment 1/Example_Technical_Skills.csv')"
      ],
      "metadata": {
        "id": "8lANFUaSqJAa"
      },
      "execution_count": null,
      "outputs": []
    },
    {
      "cell_type": "code",
      "source": [
        "# loading the dataset 'Raw_skills_dataset'\n",
        "raw = pd.read_csv('/content/drive/MyDrive/intern assignment 1/Raw_Skills_Dataset.csv')\n",
        "raw"
      ],
      "metadata": {
        "id": "QNti_nywqjtH",
        "colab": {
          "base_uri": "https://localhost:8080/",
          "height": 424
        },
        "outputId": "ed0f90b0-1a0a-436d-bbeb-1890f6e471b2"
      },
      "execution_count": null,
      "outputs": [
        {
          "output_type": "execute_result",
          "data": {
            "text/plain": [
              "                                            RAW DATA\n",
              "0                                           What ifs\n",
              "1                                          seniority\n",
              "2                                        familiarity\n",
              "3                                    functionalities\n",
              "4                                            Lambdas\n",
              "...                                              ...\n",
              "34111                                    negotiation\n",
              "34112                                      deadlines\n",
              "34113  Self-motivated, enthusiastic and strong drive\n",
              "34114                                    negotiation\n",
              "34115                                      deadlines\n",
              "\n",
              "[34116 rows x 1 columns]"
            ],
            "text/html": [
              "\n",
              "  <div id=\"df-f4891804-9e5e-40fe-8e45-99e9c4f9c25a\">\n",
              "    <div class=\"colab-df-container\">\n",
              "      <div>\n",
              "<style scoped>\n",
              "    .dataframe tbody tr th:only-of-type {\n",
              "        vertical-align: middle;\n",
              "    }\n",
              "\n",
              "    .dataframe tbody tr th {\n",
              "        vertical-align: top;\n",
              "    }\n",
              "\n",
              "    .dataframe thead th {\n",
              "        text-align: right;\n",
              "    }\n",
              "</style>\n",
              "<table border=\"1\" class=\"dataframe\">\n",
              "  <thead>\n",
              "    <tr style=\"text-align: right;\">\n",
              "      <th></th>\n",
              "      <th>RAW DATA</th>\n",
              "    </tr>\n",
              "  </thead>\n",
              "  <tbody>\n",
              "    <tr>\n",
              "      <th>0</th>\n",
              "      <td>What ifs</td>\n",
              "    </tr>\n",
              "    <tr>\n",
              "      <th>1</th>\n",
              "      <td>seniority</td>\n",
              "    </tr>\n",
              "    <tr>\n",
              "      <th>2</th>\n",
              "      <td>familiarity</td>\n",
              "    </tr>\n",
              "    <tr>\n",
              "      <th>3</th>\n",
              "      <td>functionalities</td>\n",
              "    </tr>\n",
              "    <tr>\n",
              "      <th>4</th>\n",
              "      <td>Lambdas</td>\n",
              "    </tr>\n",
              "    <tr>\n",
              "      <th>...</th>\n",
              "      <td>...</td>\n",
              "    </tr>\n",
              "    <tr>\n",
              "      <th>34111</th>\n",
              "      <td>negotiation</td>\n",
              "    </tr>\n",
              "    <tr>\n",
              "      <th>34112</th>\n",
              "      <td>deadlines</td>\n",
              "    </tr>\n",
              "    <tr>\n",
              "      <th>34113</th>\n",
              "      <td>Self-motivated, enthusiastic and strong drive</td>\n",
              "    </tr>\n",
              "    <tr>\n",
              "      <th>34114</th>\n",
              "      <td>negotiation</td>\n",
              "    </tr>\n",
              "    <tr>\n",
              "      <th>34115</th>\n",
              "      <td>deadlines</td>\n",
              "    </tr>\n",
              "  </tbody>\n",
              "</table>\n",
              "<p>34116 rows × 1 columns</p>\n",
              "</div>\n",
              "      <button class=\"colab-df-convert\" onclick=\"convertToInteractive('df-f4891804-9e5e-40fe-8e45-99e9c4f9c25a')\"\n",
              "              title=\"Convert this dataframe to an interactive table.\"\n",
              "              style=\"display:none;\">\n",
              "        \n",
              "  <svg xmlns=\"http://www.w3.org/2000/svg\" height=\"24px\"viewBox=\"0 0 24 24\"\n",
              "       width=\"24px\">\n",
              "    <path d=\"M0 0h24v24H0V0z\" fill=\"none\"/>\n",
              "    <path d=\"M18.56 5.44l.94 2.06.94-2.06 2.06-.94-2.06-.94-.94-2.06-.94 2.06-2.06.94zm-11 1L8.5 8.5l.94-2.06 2.06-.94-2.06-.94L8.5 2.5l-.94 2.06-2.06.94zm10 10l.94 2.06.94-2.06 2.06-.94-2.06-.94-.94-2.06-.94 2.06-2.06.94z\"/><path d=\"M17.41 7.96l-1.37-1.37c-.4-.4-.92-.59-1.43-.59-.52 0-1.04.2-1.43.59L10.3 9.45l-7.72 7.72c-.78.78-.78 2.05 0 2.83L4 21.41c.39.39.9.59 1.41.59.51 0 1.02-.2 1.41-.59l7.78-7.78 2.81-2.81c.8-.78.8-2.07 0-2.86zM5.41 20L4 18.59l7.72-7.72 1.47 1.35L5.41 20z\"/>\n",
              "  </svg>\n",
              "      </button>\n",
              "      \n",
              "  <style>\n",
              "    .colab-df-container {\n",
              "      display:flex;\n",
              "      flex-wrap:wrap;\n",
              "      gap: 12px;\n",
              "    }\n",
              "\n",
              "    .colab-df-convert {\n",
              "      background-color: #E8F0FE;\n",
              "      border: none;\n",
              "      border-radius: 50%;\n",
              "      cursor: pointer;\n",
              "      display: none;\n",
              "      fill: #1967D2;\n",
              "      height: 32px;\n",
              "      padding: 0 0 0 0;\n",
              "      width: 32px;\n",
              "    }\n",
              "\n",
              "    .colab-df-convert:hover {\n",
              "      background-color: #E2EBFA;\n",
              "      box-shadow: 0px 1px 2px rgba(60, 64, 67, 0.3), 0px 1px 3px 1px rgba(60, 64, 67, 0.15);\n",
              "      fill: #174EA6;\n",
              "    }\n",
              "\n",
              "    [theme=dark] .colab-df-convert {\n",
              "      background-color: #3B4455;\n",
              "      fill: #D2E3FC;\n",
              "    }\n",
              "\n",
              "    [theme=dark] .colab-df-convert:hover {\n",
              "      background-color: #434B5C;\n",
              "      box-shadow: 0px 1px 3px 1px rgba(0, 0, 0, 0.15);\n",
              "      filter: drop-shadow(0px 1px 2px rgba(0, 0, 0, 0.3));\n",
              "      fill: #FFFFFF;\n",
              "    }\n",
              "  </style>\n",
              "\n",
              "      <script>\n",
              "        const buttonEl =\n",
              "          document.querySelector('#df-f4891804-9e5e-40fe-8e45-99e9c4f9c25a button.colab-df-convert');\n",
              "        buttonEl.style.display =\n",
              "          google.colab.kernel.accessAllowed ? 'block' : 'none';\n",
              "\n",
              "        async function convertToInteractive(key) {\n",
              "          const element = document.querySelector('#df-f4891804-9e5e-40fe-8e45-99e9c4f9c25a');\n",
              "          const dataTable =\n",
              "            await google.colab.kernel.invokeFunction('convertToInteractive',\n",
              "                                                     [key], {});\n",
              "          if (!dataTable) return;\n",
              "\n",
              "          const docLinkHtml = 'Like what you see? Visit the ' +\n",
              "            '<a target=\"_blank\" href=https://colab.research.google.com/notebooks/data_table.ipynb>data table notebook</a>'\n",
              "            + ' to learn more about interactive tables.';\n",
              "          element.innerHTML = '';\n",
              "          dataTable['output_type'] = 'display_data';\n",
              "          await google.colab.output.renderOutput(dataTable, element);\n",
              "          const docLink = document.createElement('div');\n",
              "          docLink.innerHTML = docLinkHtml;\n",
              "          element.appendChild(docLink);\n",
              "        }\n",
              "      </script>\n",
              "    </div>\n",
              "  </div>\n",
              "  "
            ]
          },
          "metadata": {},
          "execution_count": 3
        }
      ]
    },
    {
      "cell_type": "code",
      "source": [
        "# creating an array\n",
        "tech_data = []\n",
        "for i in raw['RAW DATA']:\n",
        "  if i in tech['Technology Skills'].values:\n",
        "    tech_data.append(i)\n",
        "\n",
        "# creating a dataframe \n",
        "df = pd.DataFrame(tech_data)\n",
        "df\n",
        "# dropping duplicate values\n",
        "df.drop_duplicates(inplace = True)\n",
        "df.duplicated().sum()"
      ],
      "metadata": {
        "colab": {
          "base_uri": "https://localhost:8080/"
        },
        "id": "HE5K1bDcqrl2",
        "outputId": "afcb9632-6dc0-474c-c72c-de8f3ef6d090"
      },
      "execution_count": null,
      "outputs": [
        {
          "output_type": "execute_result",
          "data": {
            "text/plain": [
              "0"
            ]
          },
          "metadata": {},
          "execution_count": 8
        }
      ]
    },
    {
      "cell_type": "code",
      "source": [
        "print(df)\n"
      ],
      "metadata": {
        "colab": {
          "base_uri": "https://localhost:8080/"
        },
        "id": "S3FrgFrVrkV9",
        "outputId": "a9cbaa46-70cd-4ada-b287-a8195d0c2b2f"
      },
      "execution_count": null,
      "outputs": [
        {
          "output_type": "stream",
          "name": "stdout",
          "text": [
            "                              0\n",
            "0                         MySQL\n",
            "1                          SCSS\n",
            "2                           EAC\n",
            "3                        DevOps\n",
            "5                     OpenShift\n",
            "6                        GitHub\n",
            "13                     NetSuite\n",
            "16                    Bitbucket\n",
            "21                     Ethereum\n",
            "22                       Kotlin\n",
            "33                         Bash\n",
            "48                          FTP\n",
            "53                    OneStream\n",
            "67                       Consul\n",
            "86                    Force.com\n",
            "94                Amazon Lambda\n",
            "96                       Radius\n",
            "99                         Gulp\n",
            "101      Guidewire PolicyCenter\n",
            "110             Adobe Photoshop\n",
            "112                     Eclipse\n",
            "140                     Phantom\n",
            "143                     Magento\n",
            "151  Microsoft Azure Networking\n",
            "178                    ActiveMQ\n",
            "195                  SAP Lumira\n",
            "196         SAP Analytics Cloud\n",
            "200                     PostGIS\n",
            "210                     SAS JMP\n",
            "213                       NuGet\n",
            "232                         DRM\n",
            "234        SAS Enterprise Guide\n",
            "237                     Katalon\n",
            "239                Apache Oozie\n",
            "242              Octopus Deploy\n",
            "258                    SAS Base\n"
          ]
        }
      ]
    },
    {
      "cell_type": "code",
      "source": [
        "# checking for null values\n",
        "raw.isnull().sum()"
      ],
      "metadata": {
        "colab": {
          "base_uri": "https://localhost:8080/"
        },
        "id": "QqfH59DRt796",
        "outputId": "1cfa036b-2081-442b-d01f-f54306ab7490"
      },
      "execution_count": null,
      "outputs": [
        {
          "output_type": "execute_result",
          "data": {
            "text/plain": [
              "RAW DATA    0\n",
              "dtype: int64"
            ]
          },
          "metadata": {},
          "execution_count": 6
        }
      ]
    },
    {
      "cell_type": "code",
      "source": [
        ""
      ],
      "metadata": {
        "id": "D0M2XqCvikp2"
      },
      "execution_count": null,
      "outputs": []
    }
  ]
}