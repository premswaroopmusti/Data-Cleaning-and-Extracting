{
  "nbformat": 4,
  "nbformat_minor": 0,
  "metadata": {
    "colab": {
      "name": "code.ipynb",
      "provenance": [],
      "authorship_tag": "ABX9TyPleQKD7vXt5O7kTX4HwJVn",
      "include_colab_link": true
    },
    "kernelspec": {
      "name": "python3",
      "display_name": "Python 3"
    },
    "language_info": {
      "name": "python"
    }
  },
  "cells": [
    {
      "cell_type": "markdown",
      "metadata": {
        "id": "view-in-github",
        "colab_type": "text"
      },
      "source": [
        "<a href=\"https://colab.research.google.com/github/premswaroopmusti/Intern-Assignment/blob/main/code.ipynb\" target=\"_parent\"><img src=\"https://colab.research.google.com/assets/colab-badge.svg\" alt=\"Open In Colab\"/></a>"
      ]
    },
    {
      "cell_type": "code",
      "execution_count": 33,
      "metadata": {
        "id": "iusaZPp8jFte"
      },
      "outputs": [],
      "source": [
        "import requests as r\n",
        "from bs4 import BeautifulSoup\n",
        "import pandas as pd\n"
      ]
    },
    {
      "cell_type": "code",
      "source": [
        "product_list = []\n",
        "for x in range(1,6):\n",
        "     req = r.get(f'https://www.nykaa.com/natural/skin/c/9565?page_no={x}&sort=popularity&root=nav_2&dir=desc&order=popularity&eq=desktop')\n",
        "     req.text\n",
        "     soup = BeautifulSoup(req.text,'html.parser')\n",
        "     products = soup.find_all('div',class_ = 'productWrapper css-xin9gt')\n",
        "     for i in products:\n",
        "       product_name = i.find('div',class_ = 'css-xrzmfa').text\n",
        "       product_price = i.find('span', class_ = 'css-111z9ua').text\n",
        "       product_price = product_price.replace('₹','')\n",
        "       product_list.append({'name':product_name,'price':product_price})\n",
        "      \n",
        "df = pd.DataFrame(product_list)\n",
        "df\n",
        "df.to_excel('abc.xlsx',index = False)"
      ],
      "metadata": {
        "id": "SzsQa_x7jL_b"
      },
      "execution_count": 52,
      "outputs": []
    },
    {
      "cell_type": "code",
      "source": [
        ""
      ],
      "metadata": {
        "id": "M_NhLDPNx0HB"
      },
      "execution_count": 37,
      "outputs": []
    }
  ]
}